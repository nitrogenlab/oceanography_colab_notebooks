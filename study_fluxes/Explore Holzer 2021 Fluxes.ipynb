{
 "cells": [
  {
   "cell_type": "code",
   "execution_count": 1,
   "metadata": {},
   "outputs": [
    {
     "name": "stdout",
     "output_type": "stream",
     "text": [
      "Explore Holzer 2021 Fluxes.ipynb \u001b[35mOCIM2_48L_base_transport.mat\u001b[m\u001b[m\r\n",
      "\u001b[35mOCIM2_48L_base_data.nc\u001b[m\u001b[m\r\n"
     ]
    }
   ],
   "source": [
    "!ls"
   ]
  },
  {
   "cell_type": "code",
   "execution_count": 59,
   "metadata": {},
   "outputs": [],
   "source": [
    "from scipy.io import loadmat\n",
    "\n",
    "#Units of \"per year\" for the transport matrix\n",
    "base_transport = loadmat(\"OCIM2_48L_base_transport.mat\")"
   ]
  },
  {
   "cell_type": "code",
   "execution_count": 60,
   "metadata": {},
   "outputs": [
    {
     "data": {
      "text/plain": [
       "{'__header__': b'MATLAB 5.0 MAT-file, Platform: GLNXA64, Created on: Wed Jun 16 15:43:51 2021',\n",
       " '__version__': '1.0',\n",
       " '__globals__': [],\n",
       " 'TR': <405386x405386 sparse matrix of type '<class 'numpy.float64'>'\n",
       " \twith 6225475 stored elements in Compressed Sparse Column format>}"
      ]
     },
     "execution_count": 60,
     "metadata": {},
     "output_type": "execute_result"
    }
   ],
   "source": [
    "base_transport"
   ]
  },
  {
   "cell_type": "code",
   "execution_count": 2,
   "metadata": {},
   "outputs": [],
   "source": [
    "from netCDF4 import Dataset"
   ]
  },
  {
   "cell_type": "code",
   "execution_count": 45,
   "metadata": {},
   "outputs": [],
   "source": [
    "data = Dataset(\"OCIM2_48L_base_data.nc\")"
   ]
  },
  {
   "cell_type": "code",
   "execution_count": 43,
   "metadata": {},
   "outputs": [
    {
     "name": "stdout",
     "output_type": "stream",
     "text": [
      "<class 'netCDF4._netCDF4.Variable'>\n",
      "float64 ocnmask(depth, longitude, latitude)\n",
      "    description: land-sea mask (1 = ocean, 0 = land)\n",
      "unlimited dimensions: \n",
      "current shape = (48, 180, 91)\n",
      "filling on, default _FillValue of 9.969209968386869e+36 used\n",
      "405386.0\n",
      "(array([ 0,  0,  0, ..., 47, 47, 47]), array([  0,   0,   0, ..., 151, 151, 151]), array([ 9, 10, 11, ..., 57, 58, 59]))\n"
     ]
    },
    {
     "data": {
      "text/plain": [
       "<matplotlib.axes._subplots.AxesSubplot at 0x7fc608becb20>"
      ]
     },
     "execution_count": 43,
     "metadata": {},
     "output_type": "execute_result"
    },
    {
     "data": {
      "image/png": "[encoded data removed]",
      "text/plain": [
       "<Figure size 432x288 with 2 Axes>"
      ]
     },
     "metadata": {
      "needs_background": "light"
     },
     "output_type": "display_data"
    }
   ],
   "source": [
    "import numpy as np\n",
    "print(data.variables['ocnmask'])\n",
    "type(data.variables['ocnmask'][:].data)\n",
    "print(np.sum(data.variables['ocnmask'][:].data))\n",
    "print(np.nonzero(data.variables['ocnmask'][:].data))\n",
    "\n",
    "from matplotlib import pyplot as plt\n",
    "import seaborn as sns\n",
    "sns.heatmap(data.variables['ocnmask'][0].data[:,::-1].transpose())"
   ]
  },
  {
   "cell_type": "code",
   "execution_count": 86,
   "metadata": {},
   "outputs": [
    {
     "data": {
      "text/plain": [
       "(48, 180, 91)"
      ]
     },
     "execution_count": 86,
     "metadata": {},
     "output_type": "execute_result"
    }
   ],
   "source": [
    "ocnmask = data.variables['ocnmask']\n",
    "ocnmask.shape"
   ]
  },
  {
   "cell_type": "code",
   "execution_count": 99,
   "metadata": {},
   "outputs": [],
   "source": [
    "#figure out the index mapping from tr idx to full grid points via np.nonzero on ocean mask\n",
    "tridx_to_fullgrid_idxs = np.nonzero(ocnmask[:].data)\n",
    "\n",
    "#Let's populat a data structure called 'gridflux' that's as follows:\n",
    "# [from_depthidx, from_lonidx, from_latidx] -> [trentry...]\n",
    "# Where 'trentry' looks like (flux, (to_depthidx, to_lonidx, to_latidx))\n",
    "\n",
    "#initialize the gridflux data structure\n",
    "gridflux = []\n",
    "for depth_idx in range(ocnmask.shape[0]):\n",
    "    gridflux_depthentry = []\n",
    "    for lon_idx in range(ocnmask.shape[1]):\n",
    "        gridflux_lonentry = []\n",
    "        for lat_idx in range(ocnmask.shape[2]):\n",
    "            gridflux_latentry = []\n",
    "            gridflux_lonentry.append(gridflux_latentry)\n",
    "        gridflux_depthentry.append(gridflux_lonentry)\n",
    "    gridflux.append(gridflux_depthentry)\n",
    "\n",
    "TR_mat_coo = base_transport['TR'][fluxaxis_surfacemask][:,fluxaxis_surfacemask].tocoo()\n",
    "tr_cols, tr_rows, tr_data = TR_mat_coo.col, TR_mat_coo.row, TR_mat_coo.data\n",
    "for (tr_col, tr_row, flux) in zip(tr_cols, tr_rows, tr_data):\n",
    "    from_depthidx = tridx_to_fullgrid_idxs[0][tr_row] #need to verify from & to by visualizing\n",
    "    from_lonidx = tridx_to_fullgrid_idxs[1][tr_row]\n",
    "    from_latidx = tridx_to_fullgrid_idxs[2][tr_row]\n",
    "    \n",
    "    to_depthidx = tridx_to_fullgrid_idxs[0][tr_col]\n",
    "    to_lonidx = tridx_to_fullgrid_idxs[1][tr_col]\n",
    "    to_latidx = tridx_to_fullgrid_idxs[2][tr_col]\n",
    "\n",
    "    #Make sure that the 'to' boxes are adjacent to the 'from' boxes\n",
    "    assert ((abs(to_depthidx-from_depthidx) <= 1) or\n",
    "            (max(to_depthidx,from_depthidx)==(ocnmask.shape[0]-1) \n",
    "             and min(to_depthidx,from_depthidx)==0)), (to_depthidx, from_depthidx)\n",
    "    assert ((abs(to_lonidx-from_lonidx) <= 1) or\n",
    "            (max(to_lonidx,from_lonidx)==(ocnmask.shape[1]-1) \n",
    "             and min(to_lonidx,from_lonidx)==0)), (to_lonidx, from_lonidx)\n",
    "    assert ((abs(to_latidx-from_latidx) <= 1) or\n",
    "            (max(to_latidx,from_latidx)==(ocnmask.shape[2]-1) \n",
    "             and min(to_latidx,from_latidx)==0)), (to_latidx, from_latidx)\n",
    "    \n",
    "    gridflux[from_depthidx][from_lonidx][from_latidx].append( (flux, (to_depthidx, to_lonidx, to_latidx)) )\n",
    "    \n",
    "\n",
    "\n",
    "#and MOC\n",
    "\n",
    "#then retrieve lat, lon, depth, pdens? (for uv vector?) for the flux axis\n",
    "#then pick a box for the target...backtrack source?"
   ]
  },
  {
   "cell_type": "code",
   "execution_count": 84,
   "metadata": {},
   "outputs": [
    {
     "data": {
      "text/plain": [
       "50564"
      ]
     },
     "execution_count": 84,
     "metadata": {},
     "output_type": "execute_result"
    }
   ],
   "source": [
    "len(base_transport['TR'][fluxaxis_surfacemask][:,fluxaxis_surfacemask].tocoo().col)"
   ]
  },
  {
   "cell_type": "code",
   "execution_count": 63,
   "metadata": {},
   "outputs": [
    {
     "data": {
      "text/plain": [
       "array([    0,     1,     2, ..., 10439, 10440, 10441])"
      ]
     },
     "execution_count": 63,
     "metadata": {},
     "output_type": "execute_result"
    }
   ],
   "source": [
    "np.nonzero(fluxaxis_surfacemask)[0]"
   ]
  },
  {
   "cell_type": "code",
   "execution_count": 33,
   "metadata": {},
   "outputs": [
    {
     "data": {
      "text/plain": [
       "{'ocnmask': <class 'netCDF4._netCDF4.Variable'>\n",
       " float64 ocnmask(depth, longitude, latitude)\n",
       "     description: land-sea mask (1 = ocean, 0 = land)\n",
       " unlimited dimensions: \n",
       " current shape = (48, 180, 91)\n",
       " filling on, default _FillValue of 9.969209968386869e+36 used,\n",
       " 'tlat': <class 'netCDF4._netCDF4.Variable'>\n",
       " float64 tlat(depth, longitude, latitude)\n",
       "     description: latitude (degrees north) defined at tracer grid point\n",
       " unlimited dimensions: \n",
       " current shape = (48, 180, 91)\n",
       " filling on, default _FillValue of 9.969209968386869e+36 used,\n",
       " 'tlon': <class 'netCDF4._netCDF4.Variable'>\n",
       " float64 tlon(depth, longitude, latitude)\n",
       "     description: longitude (degrees east) defined at tracer grid point\n",
       " unlimited dimensions: \n",
       " current shape = (48, 180, 91)\n",
       " filling on, default _FillValue of 9.969209968386869e+36 used,\n",
       " 'tz': <class 'netCDF4._netCDF4.Variable'>\n",
       " float64 tz(depth, longitude, latitude)\n",
       "     description: depth (m below sea surface) defined at tracer grid point\n",
       " unlimited dimensions: \n",
       " current shape = (48, 180, 91)\n",
       " filling on, default _FillValue of 9.969209968386869e+36 used,\n",
       " 'ulat': <class 'netCDF4._netCDF4.Variable'>\n",
       " float64 ulat(depth, longitude, latitude)\n",
       "     description: latitude (degrees north) defined at uv-velocity grid point\n",
       " unlimited dimensions: \n",
       " current shape = (48, 180, 91)\n",
       " filling on, default _FillValue of 9.969209968386869e+36 used,\n",
       " 'ulon': <class 'netCDF4._netCDF4.Variable'>\n",
       " float64 ulon(depth, longitude, latitude)\n",
       "     description: longitude (degrees east) defined at uv-velocity grid point\n",
       " unlimited dimensions: \n",
       " current shape = (48, 180, 91)\n",
       " filling on, default _FillValue of 9.969209968386869e+36 used,\n",
       " 'wz': <class 'netCDF4._netCDF4.Variable'>\n",
       " float64 wz(depth, longitude, latitude)\n",
       "     description: depth (m below sea surface) defined at w-velocity grid point\n",
       " unlimited dimensions: \n",
       " current shape = (48, 180, 91)\n",
       " filling on, default _FillValue of 9.969209968386869e+36 used,\n",
       " 'vol': <class 'netCDF4._netCDF4.Variable'>\n",
       " float64 vol(depth, longitude, latitude)\n",
       "     description: volume (m^3) of tracer grid cells\n",
       " unlimited dimensions: \n",
       " current shape = (48, 180, 91)\n",
       " filling on, default _FillValue of 9.969209968386869e+36 used,\n",
       " 'area': <class 'netCDF4._netCDF4.Variable'>\n",
       " float64 area(depth, longitude, latitude)\n",
       "     description: area (m^2) of tracer grid cells\n",
       " unlimited dimensions: \n",
       " current shape = (48, 180, 91)\n",
       " filling on, default _FillValue of 9.969209968386869e+36 used,\n",
       " 'kappa_para': <class 'netCDF4._netCDF4.Variable'>\n",
       " float64 kappa_para(depth, longitude, latitude)\n",
       "     description: isopycnal diffusivity (m^2/s)\n",
       " unlimited dimensions: \n",
       " current shape = (48, 180, 91)\n",
       " filling on, default _FillValue of 9.969209968386869e+36 used,\n",
       " 'kappa_perp': <class 'netCDF4._netCDF4.Variable'>\n",
       " float64 kappa_perp(depth, longitude, latitude)\n",
       "     description: diapycnal diffusivity (m^2/s)\n",
       " unlimited dimensions: \n",
       " current shape = (48, 180, 91)\n",
       " filling on, default _FillValue of 9.969209968386869e+36 used,\n",
       " 'ptemp': <class 'netCDF4._netCDF4.Variable'>\n",
       " float64 ptemp(depth, longitude, latitude)\n",
       "     description: potential temperature (deg. C)\n",
       " unlimited dimensions: \n",
       " current shape = (48, 180, 91)\n",
       " filling on, default _FillValue of 9.969209968386869e+36 used,\n",
       " 'salt': <class 'netCDF4._netCDF4.Variable'>\n",
       " float64 salt(depth, longitude, latitude)\n",
       "     description: salinity (psu)\n",
       " unlimited dimensions: \n",
       " current shape = (48, 180, 91)\n",
       " filling on, default _FillValue of 9.969209968386869e+36 used,\n",
       " 'Delta14C': <class 'netCDF4._netCDF4.Variable'>\n",
       " float64 Delta14C(depth, longitude, latitude)\n",
       "     description: Radiocarbon Delta14C (permil)\n",
       " unlimited dimensions: \n",
       " current shape = (48, 180, 91)\n",
       " filling on, default _FillValue of 9.969209968386869e+36 used,\n",
       " 'del3He': <class 'netCDF4._netCDF4.Variable'>\n",
       " float64 del3He(depth, longitude, latitude)\n",
       "     description: delta 3He (percent)\n",
       " unlimited dimensions: \n",
       " current shape = (48, 180, 91)\n",
       " filling on, default _FillValue of 9.969209968386869e+36 used,\n",
       " 'year_cfc11': <class 'netCDF4._netCDF4.Variable'>\n",
       " float64 year_cfc11(time11)\n",
       "     description: Years for which CFC-11 is simulated (calendar year)\n",
       " unlimited dimensions: \n",
       " current shape = (70,)\n",
       " filling on, default _FillValue of 9.969209968386869e+36 used,\n",
       " 'year_cfc12': <class 'netCDF4._netCDF4.Variable'>\n",
       " float64 year_cfc12(time12)\n",
       "     description: Years for which CFC-12 is simulated (calendar year)\n",
       " unlimited dimensions: \n",
       " current shape = (79,)\n",
       " filling on, default _FillValue of 9.969209968386869e+36 used,\n",
       " 'cfc11': <class 'netCDF4._netCDF4.Variable'>\n",
       " float64 cfc11(time11, depth, longitude, latitude)\n",
       "     description: CFC-11 concentration (pmol/kg)\n",
       " unlimited dimensions: \n",
       " current shape = (70, 48, 180, 91)\n",
       " filling on, default _FillValue of 9.969209968386869e+36 used,\n",
       " 'cfc12': <class 'netCDF4._netCDF4.Variable'>\n",
       " float64 cfc12(time12, depth, longitude, latitude)\n",
       "     description: CFC-12 concentration (pmol/kg)\n",
       " unlimited dimensions: \n",
       " current shape = (79, 48, 180, 91)\n",
       " filling on, default _FillValue of 9.969209968386869e+36 used,\n",
       " 'heatflux': <class 'netCDF4._netCDF4.Variable'>\n",
       " float64 heatflux(longitude, latitude)\n",
       "     description: Air-sea heat flux at sea surface, positive into ocean (W/m^2)\n",
       " unlimited dimensions: \n",
       " current shape = (180, 91)\n",
       " filling on, default _FillValue of 9.969209968386869e+36 used,\n",
       " 'saltflux': <class 'netCDF4._netCDF4.Variable'>\n",
       " float64 saltflux(longitude, latitude)\n",
       "     description: Air-sea virtual salt flux at sea surface, positive into ocean (mg/m^2/s)\n",
       " unlimited dimensions: \n",
       " current shape = (180, 91)\n",
       " filling on, default _FillValue of 9.969209968386869e+36 used,\n",
       " 'mld': <class 'netCDF4._netCDF4.Variable'>\n",
       " float64 mld(longitude, latitude)\n",
       "     description: Surface mixed layer depth (m)\n",
       " unlimited dimensions: \n",
       " current shape = (180, 91)\n",
       " filling on, default _FillValue of 9.969209968386869e+36 used,\n",
       " 'uvel': <class 'netCDF4._netCDF4.Variable'>\n",
       " float64 uvel(depth, longitude, latitude)\n",
       "     description: zonal (u) velocity (m/s)\n",
       " unlimited dimensions: \n",
       " current shape = (48, 180, 91)\n",
       " filling on, default _FillValue of 9.969209968386869e+36 used,\n",
       " 'vvel': <class 'netCDF4._netCDF4.Variable'>\n",
       " float64 vvel(depth, longitude, latitude)\n",
       "     description: Meridional (v) velocity (m/s)\n",
       " unlimited dimensions: \n",
       " current shape = (48, 180, 91)\n",
       " filling on, default _FillValue of 9.969209968386869e+36 used,\n",
       " 'wvel': <class 'netCDF4._netCDF4.Variable'>\n",
       " float64 wvel(depth, longitude, latitude)\n",
       "     description: Vertical (w) velocity (m/s)\n",
       " unlimited dimensions: \n",
       " current shape = (48, 180, 91)\n",
       " filling on, default _FillValue of 9.969209968386869e+36 used,\n",
       " 'ssh': <class 'netCDF4._netCDF4.Variable'>\n",
       " float64 ssh(longitude, latitude)\n",
       "     description: Sea surface dynamic topography (m)\n",
       " unlimited dimensions: \n",
       " current shape = (180, 91)\n",
       " filling on, default _FillValue of 9.969209968386869e+36 used,\n",
       " 'mantle_3he_flux': <class 'netCDF4._netCDF4.Variable'>\n",
       " float64 mantle_3he_flux(depth, longitude, latitude)\n",
       "     description: Mantle 3He flux from ocean ridges (mol/m^3/yr)\n",
       " unlimited dimensions: \n",
       " current shape = (48, 180, 91)\n",
       " filling on, default _FillValue of 9.969209968386869e+36 used}"
      ]
     },
     "execution_count": 33,
     "metadata": {},
     "output_type": "execute_result"
    }
   ],
   "source": [
    "data.variables"
   ]
  },
  {
   "cell_type": "code",
   "execution_count": null,
   "metadata": {},
   "outputs": [],
   "source": []
  }
 ],
 "metadata": {
  "kernelspec": {
   "display_name": "Python 3",
   "language": "python",
   "name": "python3"
  },
  "language_info": {
   "codemirror_mode": {
    "name": "ipython",
    "version": 3
   },
   "file_extension": ".py",
   "mimetype": "text/x-python",
   "name": "python",
   "nbconvert_exporter": "python",
   "pygments_lexer": "ipython3",
   "version": "3.8.3"
  }
 },
 "nbformat": 4,
 "nbformat_minor": 4
}
